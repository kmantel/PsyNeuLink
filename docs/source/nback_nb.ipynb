{
 "cells": [
  {
   "cell_type": "markdown",
   "metadata": {
    "collapsed": false,
    "pycharm": {
     "name": "#%% md\n"
    }
   },
   "source": [
    "# NBackModelNotebook"
   ]
  },
  {
   "cell_type": "code",
   "execution_count": null,
   "metadata": {},
   "outputs": [],
   "source": [
    "from psyneulink.library.models.Beukers_et_al_2022.nback import \\\n",
    "    construct_model, train_network, run_model, analyze_results\n",
    "from psyneulink import *"
   ]
  },
  {
   "cell_type": "markdown",
   "metadata": {
    "collapsed": false
   },
   "source": []
  },
  {
   "cell_type": "code",
   "execution_count": null,
   "metadata": {},
   "outputs": [],
   "source": [
    "MAX_NBACK_LEVELS = 3\n",
    "NUM_STIM = 8 # number of different stimuli in stimulus set -  QUESTION: WHY ISN\"T THIS EQUAL TO STIM_SIZE OR VICE VERSA?\n",
    "FFN_TRANSFER_FUNCTION = ReLU"
   ]
  },
  {
   "cell_type": "markdown",
   "metadata": {
    "collapsed": false
   },
   "source": [
    "### Constructor parameters:  (values are from nback-paper)"
   ]
  },
  {
   "cell_type": "code",
   "execution_count": null,
   "metadata": {},
   "outputs": [],
   "source": [
    "STIM_SIZE = 8                            # length of stimulus vector\n",
    "CONTEXT_SIZE = 25                        # length of context vector\n",
    "HIDDEN_SIZE = STIM_SIZE*4                # dimension of hidden units in ff\n",
    "NBACK_LEVELS = [2,3]                     # Currently restricted to these\n",
    "NUM_NBACK_LEVELS = len(NBACK_LEVELS)\n",
    "CONTEXT_DRIFT_NOISE = 0.0                # noise used by DriftOnASphereIntegrator (function of Context mech)\n",
    "RANDOM_WEIGHTS_INITIALIZATION=\\\n",
    "    RandomMatrix(center=0.0, range=0.1)  # Matrix spec used to initialize all Projections\n",
    "RETRIEVAL_SOFTMAX_TEMP = 1/8             # express as gain # precision of retrieval process\n",
    "RETRIEVAL_HAZARD_RATE = 0.04             # rate of re=sampling of em following non-match in a pass through ffn\n",
    "RETRIEVAL_STIM_WEIGHT = 0.05             # weighting of stimulus field in retrieval from em\n",
    "RETRIEVAL_CONTEXT_WEIGHT \\\n",
    "    = 1-RETRIEVAL_STIM_WEIGHT            # weighting of context field in retrieval from em\n",
    "DECISION_SOFTMAX_TEMP=1"
   ]
  },
  {
   "cell_type": "markdown",
   "metadata": {
    "collapsed": false
   },
   "source": [
    "### Training parameters:"
   ]
  },
  {
   "cell_type": "code",
   "execution_count": null,
   "metadata": {},
   "outputs": [],
   "source": [
    "NUM_EPOCHS = 6250    # nback-paper: 400,000 @ one trial per epoch = 6,250 @ 64 trials per epoch\n",
    "LEARNING_RATE =0.001  # nback-paper: .001\n",
    "\n",
    "#### Execution parameters:\n",
    "CONTEXT_DRIFT_RATE=.1 # drift rate used for DriftOnASphereIntegrator (function of Context mech) on each trial\n",
    "NUM_TRIALS = 48 # number of stimuli presented in a trial sequence\n",
    "REPORT_OUTPUT = ReportOutput.OFF   # Sets console output during run\n",
    "REPORT_PROGRESS = ReportProgress.OFF  # Sets console progress bar during run\n",
    "ANIMATE = False # {UNIT:EXECUTION_SET} # Specifies whether to generate animation of execution"
   ]
  },
  {
   "cell_type": "markdown",
   "metadata": {
    "collapsed": false
   },
   "source": [
    "### Names of Compositions and Mechanisms:"
   ]
  },
  {
   "cell_type": "code",
   "execution_count": null,
   "metadata": {},
   "outputs": [],
   "source": [
    "NBACK_MODEL = \"N-back Model\"\n",
    "FFN_COMPOSITION = \"WORKING MEMORY (fnn)\"\n",
    "FFN_STIMULUS_INPUT = \"CURRENT STIMULUS\"\n",
    "FFN_CONTEXT_INPUT = \"CURRENT CONTEXT\"\n",
    "FFN_STIMULUS_RETRIEVED = \"RETRIEVED STIMULUS\"\n",
    "FFN_CONTEXT_RETRIEVED = \"RETRIEVED CONTEXT\"\n",
    "FFN_TASK = \"CURRENT TASK\"\n",
    "FFN_HIDDEN = \"HIDDEN LAYER\"\n",
    "FFN_OUTPUT = \"DECISION LAYER\"\n",
    "MODEL_STIMULUS_INPUT ='STIM'\n",
    "MODEL_CONTEXT_INPUT = 'CONTEXT'\n",
    "MODEL_TASK_INPUT = \"TASK\"\n",
    "EM = \"EPISODIC MEMORY (dict)\"\n",
    "CONTROLLER = \"READ/WRITE CONTROLLER\""
   ]
  },
  {
   "cell_type": "markdown",
   "metadata": {
    "pycharm": {
     "name": "#%% md\n"
    }
   },
   "source": [
    "## Construct the model:"
   ]
  },
  {
   "cell_type": "code",
   "execution_count": null,
   "metadata": {},
   "outputs": [],
   "source": [
    "clear_registry()\n",
    "nback_model = construct_model(stim_size=10)"
   ]
  },
  {
   "cell_type": "markdown",
   "metadata": {
    "collapsed": false,
    "pycharm": {
     "name": "#%% md\n"
    }
   },
   "source": [
    "## Train the model:"
   ]
  },
  {
   "cell_type": "code",
   "execution_count": null,
   "metadata": {},
   "outputs": [],
   "source": [
    "ffn = nback_model.nodes['WORKING MEMORY (fnn)']\n",
    "train_network(ffn, num_epochs=6250)"
   ]
  },
  {
   "cell_type": "markdown",
   "metadata": {},
   "source": [
    "## Run the model:"
   ]
  },
  {
   "cell_type": "code",
   "execution_count": null,
   "metadata": {},
   "outputs": [],
   "source": [
    "results = run_model(nback_model)"
   ]
  },
  {
   "cell_type": "markdown",
   "metadata": {
    "collapsed": false,
    "pycharm": {
     "name": "#%% md\n"
    }
   },
   "source": [
    "## Analyze the results:"
   ]
  },
  {
   "cell_type": "code",
   "execution_count": null,
   "metadata": {},
   "outputs": [],
   "source": [
    "coded_responses, stats = analyze_results(results,\n",
    "                                         num_trials=NUM_TRIALS,\n",
    "                                         nback_levels=NBACK_LEVELS)\n",
    "\n"
   ]
  }
 ],
 "metadata": {
  "language_info": {
   "name": "python"
  }
 },
 "nbformat": 4,
 "nbformat_minor": 1
}
